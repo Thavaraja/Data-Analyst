{
 "cells": [
  {
   "cell_type": "code",
   "execution_count": 6,
   "id": "86c39506",
   "metadata": {},
   "outputs": [],
   "source": [
    "import os, shutil"
   ]
  },
  {
   "cell_type": "code",
   "execution_count": 13,
   "id": "9f13250d",
   "metadata": {},
   "outputs": [],
   "source": [
    "path=r\"C:/Users/Si2Websolution/Desktop/python tutorial/\""
   ]
  },
  {
   "cell_type": "code",
   "execution_count": 8,
   "id": "80ee62df",
   "metadata": {},
   "outputs": [],
   "source": [
    "file_name=os.listdir(path)"
   ]
  },
  {
   "cell_type": "code",
   "execution_count": 14,
   "id": "18648ded",
   "metadata": {},
   "outputs": [
    {
     "name": "stdout",
     "output_type": "stream",
     "text": [
      "C:/Users/Si2Websolution/Desktop/python tutorial/image files\n",
      "C:/Users/Si2Websolution/Desktop/python tutorial/txt files\n",
      "C:/Users/Si2Websolution/Desktop/python tutorial/csv files\n"
     ]
    }
   ],
   "source": [
    "folder_name=['image files','txt files','csv files']\n",
    "\n",
    "for loop in range(0,3):\n",
    "    if not os.path.exists(path + folder_name[loop]):\n",
    "        print(path+folder_name[loop])\n",
    "        os.makedirs(path+folder_name[loop])"
   ]
  },
  {
   "cell_type": "code",
   "execution_count": null,
   "id": "f8141f40",
   "metadata": {},
   "outputs": [],
   "source": []
  },
  {
   "cell_type": "code",
   "execution_count": 9,
   "id": "f489743b",
   "metadata": {},
   "outputs": [
    {
     "name": "stdout",
     "output_type": "stream",
     "text": [
      "['Google_Apps_Script.svg.png', 'HTML5_logo_and_wordmark.svg.png', 'owid-covid-data.csv', 'Sql_data_base_with_logo.png', 'THAVASQLEXPRESS.txt']\n"
     ]
    }
   ],
   "source": [
    "print(file_name)"
   ]
  },
  {
   "cell_type": "code",
   "execution_count": 15,
   "id": "1875bf2b",
   "metadata": {},
   "outputs": [
    {
     "name": "stdout",
     "output_type": "stream",
     "text": [
      "['image files', 'txt files', 'csv files']\n"
     ]
    }
   ],
   "source": [
    "print(folder_name)"
   ]
  },
  {
   "cell_type": "code",
   "execution_count": 16,
   "id": "00a5058d",
   "metadata": {},
   "outputs": [],
   "source": [
    "for file in file_name:\n",
    "    if \".csv\" in file and not os.path.exists(path+\"csv files/\" + file):\n",
    "        shutil.move(path + file, path + \"csv files/\" +file)\n",
    "    elif \".png\" in file and not os.path.exists(path+\"image files/\" + file):\n",
    "        shutil.move(path+file,path+\"image files/\"+file)\n",
    "    elif \".txt\" in file and not os.path.exists(path+\"txt files/\" + file):\n",
    "        shutil.move(path+file,path+\"txt files/\"+file)        "
   ]
  },
  {
   "cell_type": "code",
   "execution_count": null,
   "id": "c12c1f84",
   "metadata": {},
   "outputs": [],
   "source": []
  },
  {
   "cell_type": "code",
   "execution_count": null,
   "id": "b8e326a1",
   "metadata": {},
   "outputs": [],
   "source": []
  },
  {
   "cell_type": "code",
   "execution_count": null,
   "id": "89c2d197",
   "metadata": {},
   "outputs": [],
   "source": []
  },
  {
   "cell_type": "code",
   "execution_count": null,
   "id": "2420ee83",
   "metadata": {},
   "outputs": [],
   "source": []
  },
  {
   "cell_type": "code",
   "execution_count": null,
   "id": "b2428894",
   "metadata": {},
   "outputs": [],
   "source": []
  },
  {
   "cell_type": "code",
   "execution_count": null,
   "id": "6c8c032f",
   "metadata": {},
   "outputs": [],
   "source": []
  }
 ],
 "metadata": {
  "kernelspec": {
   "display_name": "Python 3 (ipykernel)",
   "language": "python",
   "name": "python3"
  },
  "language_info": {
   "codemirror_mode": {
    "name": "ipython",
    "version": 3
   },
   "file_extension": ".py",
   "mimetype": "text/x-python",
   "name": "python",
   "nbconvert_exporter": "python",
   "pygments_lexer": "ipython3",
   "version": "3.11.5"
  }
 },
 "nbformat": 4,
 "nbformat_minor": 5
}
